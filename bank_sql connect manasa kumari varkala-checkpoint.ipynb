{
 "cells": [
  {
   "cell_type": "code",
   "execution_count": 1,
   "id": "f854f492",
   "metadata": {
    "ExecuteTime": {
     "end_time": "2023-05-31T12:02:40.499054Z",
     "start_time": "2023-05-31T12:02:40.231361Z"
    }
   },
   "outputs": [],
   "source": [
    "import pymysql\n",
    "\n",
    "# Connect to the database\n",
    "connection = pymysql.connect(host='localhost',\n",
    "                             user='root',\n",
    "                             password='Royalassembly@1',\n",
    "                             database='bank_db')"
   ]
  },
  {
   "cell_type": "code",
   "execution_count": 2,
   "id": "a3bd7920",
   "metadata": {
    "ExecuteTime": {
     "end_time": "2023-05-31T12:02:52.158491Z",
     "start_time": "2023-05-31T12:02:52.143337Z"
    }
   },
   "outputs": [],
   "source": [
    "cursor = connection.cursor()"
   ]
  },
  {
   "cell_type": "code",
   "execution_count": 3,
   "id": "369aa0e3",
   "metadata": {
    "ExecuteTime": {
     "end_time": "2023-05-31T12:03:04.083408Z",
     "start_time": "2023-05-31T12:03:04.049348Z"
    }
   },
   "outputs": [
    {
     "data": {
      "text/plain": [
       "2"
      ]
     },
     "execution_count": 3,
     "metadata": {},
     "output_type": "execute_result"
    }
   ],
   "source": [
    "cursor.execute(\"show tables\")"
   ]
  },
  {
   "cell_type": "code",
   "execution_count": 4,
   "id": "975ae089",
   "metadata": {
    "ExecuteTime": {
     "end_time": "2023-05-31T12:03:13.802734Z",
     "start_time": "2023-05-31T12:03:13.771155Z"
    }
   },
   "outputs": [
    {
     "data": {
      "text/plain": [
       "(('accounts',), ('bank_transactions',))"
      ]
     },
     "execution_count": 4,
     "metadata": {},
     "output_type": "execute_result"
    }
   ],
   "source": [
    "cursor.fetchall()"
   ]
  },
  {
   "cell_type": "code",
   "execution_count": null,
   "id": "65086e1b",
   "metadata": {},
   "outputs": [],
   "source": []
  }
 ],
 "metadata": {
  "kernelspec": {
   "display_name": "Python 3 (ipykernel)",
   "language": "python",
   "name": "python3"
  },
  "language_info": {
   "codemirror_mode": {
    "name": "ipython",
    "version": 3
   },
   "file_extension": ".py",
   "mimetype": "text/x-python",
   "name": "python",
   "nbconvert_exporter": "python",
   "pygments_lexer": "ipython3",
   "version": "3.9.12"
  }
 },
 "nbformat": 4,
 "nbformat_minor": 5
}
